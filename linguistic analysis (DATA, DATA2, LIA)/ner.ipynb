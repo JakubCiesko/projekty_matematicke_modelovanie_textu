{
 "cells": [
  {
   "cell_type": "markdown",
   "metadata": {},
   "source": [
    "<h1>Extrakcia menných entít z odpovedí Geodotazníku</h1>"
   ]
  },
  {
   "cell_type": "markdown",
   "metadata": {},
   "source": [
    "<h3>Import knižníc</h3>"
   ]
  },
  {
   "cell_type": "code",
   "execution_count": 13,
   "metadata": {},
   "outputs": [],
   "source": [
    "import string\n",
    "import pandas as pd\n",
    "from collections import Counter\n",
    "from nltk import ngrams\n",
    "from os import path\n",
    "import re"
   ]
  },
  {
   "cell_type": "markdown",
   "metadata": {},
   "source": [
    "<h3>Nastavenie potrebných premenných pre ukladanie</h3>"
   ]
  },
  {
   "cell_type": "code",
   "execution_count": 14,
   "metadata": {},
   "outputs": [],
   "source": [
    "working_dir = r\"D:\\\\PRACOVNÁ PLOCHA - premiestnene z C na D\\\\skola\\\\lia\\\\projekt3\"\n",
    "file_name = r\"otazka2.xlsx\"\n",
    "output_file_name = \"ner_answers.tsv\"\n",
    "file_path = path.join(working_dir, file_name)   # cesta k excel súboru s odpoveďami na otázku 2\n",
    "output_file_path = path.join(working_dir, output_file_name) # cesta k súboru, kam budeme výsledky ukladať "
   ]
  },
  {
   "cell_type": "code",
   "execution_count": 15,
   "metadata": {},
   "outputs": [],
   "source": [
    "data = pd.read_excel(file_path,header=0) # načítanie dát"
   ]
  },
  {
   "cell_type": "markdown",
   "metadata": {},
   "source": [
    "<h3>Vyčistenie dát</h3>"
   ]
  },
  {
   "cell_type": "code",
   "execution_count": 16,
   "metadata": {},
   "outputs": [],
   "source": [
    "def clear_data(row):\n",
    "    \"\"\"\n",
    "    funkcia zmaže prebytočné znaky v odpovediach\n",
    "    \"\"\"\n",
    "    row_str = row[0]\n",
    "    row_str = row_str.replace(\"\\n\", \" \")\n",
    "    row_str = row_str.replace(\"\\t\", \" \")\n",
    "    row_str = row_str.replace(\"\\xa0\", \" \")\n",
    "    return row_str"
   ]
  },
  {
   "cell_type": "code",
   "execution_count": 17,
   "metadata": {},
   "outputs": [
    {
     "data": {
      "text/plain": [
       "0    Turistické mapy   Mapu sídel  Mapy hustoty zal...\n",
       "1                                    Interaktivní mapy\n",
       "2                                      Mapové aplikace\n",
       "3                                mapy.cz  Google Earth\n",
       "4                          Seznam - mapy  Google Earth\n",
       "dtype: object"
      ]
     },
     "execution_count": 17,
     "metadata": {},
     "output_type": "execute_result"
    }
   ],
   "source": [
    "data = data.apply(clear_data, axis=1)\n",
    "data.head() # ukážka dát"
   ]
  },
  {
   "cell_type": "markdown",
   "metadata": {},
   "source": [
    "<h3>Extrakcia možných menných entít</h3>\n",
    "<p><em>Možná menná entita</em> -- čokoľvek, čo začína veľkým písmenom</p>"
   ]
  },
  {
   "cell_type": "code",
   "execution_count": 18,
   "metadata": {},
   "outputs": [],
   "source": [
    "def lower_case_words_in_list(lst):\n",
    "    \"\"\"\n",
    "    funkcia zmení všetky slová v zozname na malé písmená\n",
    "    \"\"\"\n",
    "    return [word.lower() for word in lst]\n",
    "    \n",
    "def extract_possible_named_entities_ngrams(data_str, n=1,lw=False):\n",
    "    \"\"\"\n",
    "    funkcia nájde všetky n-gramy, ktoré obsahujú možné menné entity (slová s veľkým písmenom na začiatku)\n",
    "    \"\"\"\n",
    "    possible_named_entities_ngrams = []\n",
    "    for gram in ngrams(data_str.split(),n):\n",
    "        ngram_string = \" \".join(gram)\n",
    "        word_with_upper_case_beginning =  r\"[A-Z].+\\s*\"# r\"[A-Z].*?\\s\"\n",
    "        possible_named_entities_ngram = re.findall(string=ngram_string, pattern=word_with_upper_case_beginning)\n",
    "        if possible_named_entities_ngram:\n",
    "            possible_named_entities_ngrams.append(ngram_string)\n",
    "    if lw:\n",
    "        possible_named_entities_ngrams = lower_case_words_in_list(possible_named_entities_ngrams)\n",
    "    return possible_named_entities_ngrams\n"
   ]
  },
  {
   "cell_type": "code",
   "execution_count": 19,
   "metadata": {},
   "outputs": [],
   "source": [
    "data_str = \" \".join(data.to_list())\n",
    "data_str_without_punctuation = data_str.translate(str.maketrans(\"\",\"\", string.punctuation))\n",
    "poss_named_entities = pd.DataFrame(Counter(extract_possible_named_entities_ngrams(data_str_without_punctuation, 1, lw=True)).items())\n",
    "poss_named_entities_bigrams = pd.DataFrame(Counter(extract_possible_named_entities_ngrams(data_str_without_punctuation, 2, lw=True)).items())\n",
    "poss_named_entities_trigrams =  pd.DataFrame(Counter(extract_possible_named_entities_ngrams(data_str_without_punctuation, 3, lw=True)).items())\n",
    "poss_named_entities_quadgrams = pd.DataFrame(Counter(extract_possible_named_entities_ngrams(data_str_without_punctuation, 4, lw=True)).items())\n"
   ]
  },
  {
   "cell_type": "markdown",
   "metadata": {},
   "source": [
    "<h3>Extrakcia webových stŕanok</h3>\n",
    "<p><em>Webová stŕanka</em> -- čokoľvek, čo v sebe zahŕňa symbol <strong>.</strong> (bodka)</p>"
   ]
  },
  {
   "cell_type": "code",
   "execution_count": 20,
   "metadata": {},
   "outputs": [],
   "source": [
    "def find_web_pages(data_str):\n",
    "    \"\"\"Nájde všetky výskyty slov, ktoré obsahujú bodku\"\"\"\n",
    "    return re.findall(string=data_str, pattern=r\"\\w+?\\.\\w+\")"
   ]
  },
  {
   "cell_type": "code",
   "execution_count": 21,
   "metadata": {},
   "outputs": [],
   "source": [
    "web_pages = pd.DataFrame(Counter(lower_case_words_in_list(find_web_pages(data_str))).items()).sort_values(by=1, ascending=False)"
   ]
  },
  {
   "cell_type": "code",
   "execution_count": 22,
   "metadata": {},
   "outputs": [
    {
     "data": {
      "text/html": [
       "<div>\n",
       "<style scoped>\n",
       "    .dataframe tbody tr th:only-of-type {\n",
       "        vertical-align: middle;\n",
       "    }\n",
       "\n",
       "    .dataframe tbody tr th {\n",
       "        vertical-align: top;\n",
       "    }\n",
       "\n",
       "    .dataframe thead th {\n",
       "        text-align: right;\n",
       "    }\n",
       "</style>\n",
       "<table border=\"1\" class=\"dataframe\">\n",
       "  <thead>\n",
       "    <tr style=\"text-align: right;\">\n",
       "      <th></th>\n",
       "      <th>0</th>\n",
       "      <th>1</th>\n",
       "    </tr>\n",
       "  </thead>\n",
       "  <tbody>\n",
       "    <tr>\n",
       "      <th>0</th>\n",
       "      <td>mapy.cz</td>\n",
       "      <td>133</td>\n",
       "    </tr>\n",
       "    <tr>\n",
       "      <th>1</th>\n",
       "      <td>www.mapy</td>\n",
       "      <td>8</td>\n",
       "    </tr>\n",
       "    <tr>\n",
       "      <th>13</th>\n",
       "      <td>maps.google</td>\n",
       "      <td>6</td>\n",
       "    </tr>\n",
       "    <tr>\n",
       "      <th>2</th>\n",
       "      <td>maps.com</td>\n",
       "      <td>5</td>\n",
       "    </tr>\n",
       "    <tr>\n",
       "      <th>7</th>\n",
       "      <td>google.cz</td>\n",
       "      <td>5</td>\n",
       "    </tr>\n",
       "  </tbody>\n",
       "</table>\n",
       "</div>"
      ],
      "text/plain": [
       "              0    1\n",
       "0       mapy.cz  133\n",
       "1      www.mapy    8\n",
       "13  maps.google    6\n",
       "2      maps.com    5\n",
       "7     google.cz    5"
      ]
     },
     "execution_count": 22,
     "metadata": {},
     "output_type": "execute_result"
    }
   ],
   "source": [
    "web_pages.head() # ukážka dát"
   ]
  },
  {
   "cell_type": "markdown",
   "metadata": {},
   "source": [
    "<h3>Uloženie dát do tsv súboru</h3>\n",
    "<p>Dáta ukladáme postupne zámenou argumentu funkcie save_data_to_tsv.</p>"
   ]
  },
  {
   "cell_type": "code",
   "execution_count": 23,
   "metadata": {},
   "outputs": [],
   "source": [
    "save_data_to_tsv = lambda pandas_dataframe: pandas_dataframe.to_csv(output_file_path,sep=\"\\t\", index=False, header=False)"
   ]
  },
  {
   "cell_type": "code",
   "execution_count": 24,
   "metadata": {},
   "outputs": [],
   "source": [
    "save_data_to_tsv(web_pages) # uložené dáta si prekopírovaním zobrazíme v Exceli"
   ]
  }
 ],
 "metadata": {
  "kernelspec": {
   "display_name": "Python 3",
   "language": "python",
   "name": "python3"
  },
  "language_info": {
   "codemirror_mode": {
    "name": "ipython",
    "version": 3
   },
   "file_extension": ".py",
   "mimetype": "text/x-python",
   "name": "python",
   "nbconvert_exporter": "python",
   "pygments_lexer": "ipython3",
   "version": "3.10.1"
  }
 },
 "nbformat": 4,
 "nbformat_minor": 2
}
