{
 "cells": [
  {
   "cell_type": "markdown",
   "metadata": {},
   "source": [
    "<h1>Extrakcia aktivít z odpovedí Geodotazníku</h1>"
   ]
  },
  {
   "cell_type": "markdown",
   "metadata": {},
   "source": [
    "<h3>Import knižníc</h3>"
   ]
  },
  {
   "cell_type": "code",
   "execution_count": 9,
   "metadata": {},
   "outputs": [],
   "source": [
    "import string\n",
    "import pandas as pd\n",
    "from conllu import parse\n",
    "from collections import Counter\n",
    "from nltk import ngrams\n",
    "from os import path\n",
    "from itertools import chain"
   ]
  },
  {
   "cell_type": "markdown",
   "metadata": {},
   "source": [
    "<h3>Nastavenie potrebných premenných pre ukladanie</h3>"
   ]
  },
  {
   "cell_type": "code",
   "execution_count": 10,
   "metadata": {},
   "outputs": [],
   "source": [
    "files_directory_path = r\"D:\\\\Nový priečinok\"\n",
    "working_dir = r\"D:\\\\PRACOVNÁ PLOCHA - premiestnene z C na D\\\\skola\\\\lia\\\\projekt3\"\n",
    "conllu_file = r\"processed.conllu\"\n",
    "tsv_output_file = r\"tsv_output_file.tsv\"\n",
    "conllu_file_path = path.join(files_directory_path, conllu_file)\n",
    "tsv_output_path = path.join(working_dir, tsv_output_file)"
   ]
  },
  {
   "cell_type": "markdown",
   "metadata": {},
   "source": [
    "<h3>Nahratie conllu súboru - výsledok spracovania UDPipe</h3>"
   ]
  },
  {
   "cell_type": "code",
   "execution_count": 11,
   "metadata": {},
   "outputs": [],
   "source": [
    "with open(conllu_file_path, 'r', encoding=\"UTF-8\") as input_file: \n",
    "    data_string = input_file.read()\n",
    "data = parse(data_string)"
   ]
  },
  {
   "cell_type": "markdown",
   "metadata": {},
   "source": [
    "<h3>Extrakcia dát z Conllu súboru</h3>"
   ]
  },
  {
   "cell_type": "code",
   "execution_count": 12,
   "metadata": {},
   "outputs": [],
   "source": [
    "lemmas = [[token[\"lemma\"] for token in data_row if token[\"lemma\"] not in string.punctuation] for data_row in data]  # získanie všetkých lemma tvarov bez interpunkcie\n",
    "bigrams = [list(ngrams(lemma, 2)) for lemma in lemmas]  # vytvorenie n-gramov z extrahovaných lemma tvarov bez interpunkcie\n",
    "trigrams = [list(ngrams(lemma, 3)) for lemma in lemmas]\n",
    "quadgrams = [list(ngrams(lemma, 4)) for lemma in lemmas]"
   ]
  },
  {
   "cell_type": "markdown",
   "metadata": {},
   "source": [
    "<h3>Získanie frekvencií lemma tvarov a n-gramov</h3>"
   ]
  },
  {
   "cell_type": "code",
   "execution_count": 13,
   "metadata": {},
   "outputs": [],
   "source": [
    "lemmas_freqs = Counter(list(chain(*lemmas)))\n",
    "bigrams_freqs = Counter(list(chain(*bigrams)))\n",
    "trigrams_freqs = Counter(list(chain(*trigrams)))\n",
    "quadgrams_freqs = Counter(list(chain(*quadgrams)))"
   ]
  },
  {
   "cell_type": "code",
   "execution_count": 14,
   "metadata": {},
   "outputs": [],
   "source": [
    "lemmas_df = pd.DataFrame(list(lemmas_freqs.items()), columns=[\"lemma\", \"freq\"])\n",
    "bigrams_df = pd.DataFrame(list(bigrams_freqs.items()), columns=[\"lemma\", \"freq\"])\n",
    "trigrams_df = pd.DataFrame(list(trigrams_freqs.items()), columns=[\"lemma\", \"freq\"])\n",
    "quadgrams_df = pd.DataFrame(list(quadgrams_freqs.items()), columns=[\"lemma\", \"freq\"])"
   ]
  },
  {
   "cell_type": "markdown",
   "metadata": {},
   "source": [
    "<h3>Uloženie dát do tsv súboru</h3>\n",
    "<p>Dáta ukladáme postupne zámenou argumentu funkcie save_data_to_tsv.</p>"
   ]
  },
  {
   "cell_type": "code",
   "execution_count": 15,
   "metadata": {},
   "outputs": [],
   "source": [
    "save_data_to_tsv = lambda pandas_dataframe: pandas_dataframe.to_csv(tsv_output_path,sep=\"\\t\", index=False)"
   ]
  },
  {
   "cell_type": "code",
   "execution_count": 16,
   "metadata": {},
   "outputs": [],
   "source": [
    "save_data_to_tsv(quadgrams_df) # uložené dáta si prekopírovaním zobrazíme v Exceli"
   ]
  }
 ],
 "metadata": {
  "kernelspec": {
   "display_name": "Python 3",
   "language": "python",
   "name": "python3"
  },
  "language_info": {
   "codemirror_mode": {
    "name": "ipython",
    "version": 3
   },
   "file_extension": ".py",
   "mimetype": "text/x-python",
   "name": "python",
   "nbconvert_exporter": "python",
   "pygments_lexer": "ipython3",
   "version": "3.10.1"
  }
 },
 "nbformat": 4,
 "nbformat_minor": 2
}
